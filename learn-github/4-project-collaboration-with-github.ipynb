{
 "cells": [
  {
   "cell_type": "markdown",
   "metadata": {},
   "source": [
    "# Project collaboration with GitHub"
   ]
  },
  {
   "cell_type": "markdown",
   "metadata": {},
   "source": [
    "In this section we will learn how to colaborate with other using GitHub and the Fork strategy for making changes. To start this section run the cell below to prepare your environment"
   ]
  },
  {
   "cell_type": "code",
   "execution_count": null,
   "metadata": {},
   "outputs": [],
   "source": [
    "/bin/bash ../learn-github-setup/4-project-collaboration-with-github.sh"
   ]
  },
  {
   "cell_type": "markdown",
   "metadata": {},
   "source": [
    "## Objectives\n",
    "\n",
    "1. **Create a fork**  \n",
    "   Create a copy of a GitHub repository\n",
    "\n",
    "2. **Clone the fork**  \n",
    "\n",
    "3. **Create and edit a branch**  \n",
    "   \n",
    "4. **Push to the fork**  \n",
    "   \n",
    "5. **Create a pull request**  \n",
    "   Initiate a merge without commit between two forks\n",
    "\n",
    "6. **Fetch changes from upstream **  \n",
    "   Update local repository with commits from the original\n",
    "\n",
    "7. **Push upstream changes to fork**"
   ]
  },
  {
   "cell_type": "markdown",
   "metadata": {},
   "source": [
    "## 1 Create a fork\n",
    "\n",
    "For this final part of the workshop you are going to add your name to the list of people who have completed this workshop on GitHub. To do this you first need to create a **fork** of the repository where the list is maintained.\n",
    "\n",
    "A fork is a personal copy of another user's repository that lives on your GitHub account. Forks allow you to freely make changes to a project without affecting the original. Forks remain attached to the original, allowing you to submit a pull request to the original's author to update with your changes. You can also keep your fork up to date by pulling in updates from the original ([Fork, GitHub glossary](https://help.github.com/articles/github-glossary/)).\n",
    "\n",
    "To create our own fork go to https://github.com/Galadirith/learn-github and click the `Fork` button in the top right of the page. \n",
    "\n",
    "![](https://galadirith.github.io/stfc-cdt-national-event-git/img/fork.png)\n",
    "\n",
    "After a short amount of time you will see your own fork of the repository under your username."
   ]
  },
  {
   "cell_type": "markdown",
   "metadata": {},
   "source": [
    "## 2 Clone the fork\n",
    "\n",
    "Now that you have created a fork, you will need to create a local copy or a **clone** of your fork. You can do this using the `git clone` command. In the command below replace `username` with your GitHub username."
   ]
  },
  {
   "cell_type": "code",
   "execution_count": null,
   "metadata": {},
   "outputs": [],
   "source": [
    "git clone https://github.com/username/learn-github.git 4-project-collaboration-with-github"
   ]
  },
  {
   "cell_type": "markdown",
   "metadata": {},
   "source": [
    "## 3 Create and edit a branch"
   ]
  },
  {
   "cell_type": "markdown",
   "metadata": {},
   "source": [
    "We learned in [3 Making changes to projects](./3-making-changes-to-projects.ipynb) that it is best to create your own branch when making changes to repositories that multiple people make commits to. Lets create a new branch now and check it out."
   ]
  },
  {
   "cell_type": "code",
   "execution_count": null,
   "metadata": {},
   "outputs": [],
   "source": [
    "cd 4-project-collaboration-with-github\n",
    "git branch update-readme\n",
    "git checkout update-readme"
   ]
  },
  {
   "cell_type": "markdown",
   "metadata": {},
   "source": [
    "In the file browser to the left of this notebook (you can open the file browser by clicking the `Files` tab) open the folder `4-project-collaboration-with-github`. Open the file `README.md` and add your name under the section *I've completed this workshop*. Now lets commit those changes to our branch. You can update the commit message to make it more personabl to you."
   ]
  },
  {
   "cell_type": "code",
   "execution_count": null,
   "metadata": {},
   "outputs": [],
   "source": [
    "git add README.md\n",
    "git commit -m \"Add completion\""
   ]
  },
  {
   "cell_type": "markdown",
   "metadata": {},
   "source": [
    "### Exercises"
   ]
  },
  {
   "cell_type": "markdown",
   "metadata": {},
   "source": [
    "**How do you create a branch and check it out at the same time?**"
   ]
  },
  {
   "cell_type": "markdown",
   "metadata": {},
   "source": [
    "You can create a branch and check it out at the same time by using the [-b](https://git-scm.com/docs/git-checkout#Documentation/git-checkout.txt--bltnewbranchgt) optional argument of [git-checkout](https://git-scm.com/docs/git-checkout). For example to create we could have run the command `git checkout -b update-readme` to create the `update-readme` branch and check it out at the same time."
   ]
  },
  {
   "cell_type": "markdown",
   "metadata": {},
   "source": [
    "## 4 Push to the fork"
   ]
  },
  {
   "cell_type": "markdown",
   "metadata": {},
   "source": [
    "Now that we have made these changes on our branch, instead of merging them into our `master` branch we want to be able to merge them into the `master` branch of the original repository that we forked. To do this we will push our new branch to our fork on GitHub. To do this you will need to open up a terminal.\n",
    "\n",
    "![](../img/terminal-1.png)\n",
    "\n",
    "You can open a new terminal window by going to `File > Open`. This will open a new tab that displays the list of notebooks used to follow this workshop.\n",
    "\n",
    "![](../img/terminal-2.png)\n",
    "\n",
    "In this new tab click on `New > Terminal`. This will open a new tab which will provide a terminal window that you can execute commands in. You will then need to move into the `learn-github/4-project-collaboration-with-github` directory which is your clone of your fork. To do this you should run the output of the following command"
   ]
  },
  {
   "cell_type": "code",
   "execution_count": null,
   "metadata": {},
   "outputs": [],
   "source": [
    "echo -e \"# Run the following command in a new terminal window\\n\\ncd ${PWD}\""
   ]
  },
  {
   "cell_type": "markdown",
   "metadata": {},
   "source": [
    "Once you have moved into your clone we can push your new branch to GitHub. To push this branch we can use the `git push` command we learnt about in [Manage projects with Git](./2-manage-projects-with-git.ipynb). You can type and run the command\n",
    "\n",
    "```bash\n",
    "git push origin update-readme\n",
    "```\n",
    "\n",
    "This will ask you for your GitHub username and password which you can type in."
   ]
  },
  {
   "cell_type": "markdown",
   "metadata": {},
   "source": [
    "## 5 Create a pull request\n",
    "\n",
    "Now that you have pushed your branch to your fork, it's time to integrate them into the original repository. To do this you need to request that the owners of the original repository merge in your changes. You can do this with a **pull request**. Pull requests are proposed changes to a repository submitted by a user and accepted or rejected by a repository's collaborators ([Pull request, GitHub glossary](https://help.github.com/articles/github-glossary/#pull-request)).\n",
    "\n",
    "To create a pull request for your branch, click on the `Branches` button on your forks GitHub page. Then click on the `New pull request` button. On the next page fill the text boxes that are relevant and then click `Create pull request`.\n",
    "\n",
    "<video src=\"https://gravity.astro.cf.ac.uk/~c1548640/pull-request.mp4\" autoplay=\"\" controls=\"\" data-paused-by-reveal=\"\" width=\"540px\"></video>\n",
    "\n",
    "Once this is done the owner of the original repostiory will be notified of a pull requests, and assuming they are happy with the changes that have been made they will merge them in. You can monitor the progress of the pull requests on the pull requests webpage. Once it has been succesfully merged a purple `merged` icon will appear on the webpage."
   ]
  },
  {
   "cell_type": "markdown",
   "metadata": {},
   "source": [
    "## 6 Fetch changes from upstream \n",
    "\n",
    "Once the changes have been merged we want to be able to syncronize the changes from the original remote repository with both our local repository and our remote fork repository.\n",
    "\n",
    "To syncronize with the original remote we need to connect to it using `git remote` that we learnt about in [2 Manage projects with Git](./2-manage-projects-with-git.ipynb)."
   ]
  },
  {
   "cell_type": "code",
   "execution_count": null,
   "metadata": {},
   "outputs": [],
   "source": [
    "git remote add upstream https://github.com/Galadirith/learn-github.git"
   ]
  },
  {
   "cell_type": "markdown",
   "metadata": {},
   "source": [
    "`upstream` is a common name for a repostiory that is the original source of the clone of a fork repository.\n",
    "\n",
    "To retrive the changes that have been made in the `upstream` remote repository including our merged pull request we can use the command `git fetch` which downloads changes made to a remote repository."
   ]
  },
  {
   "cell_type": "code",
   "execution_count": null,
   "metadata": {},
   "outputs": [],
   "source": [
    "git fetch upstream"
   ]
  },
  {
   "cell_type": "markdown",
   "metadata": {},
   "source": [
    "To learn more about the `git fetch` command you can go to [git-fetch](https://git-scm.com/docs/git-fetch). Lets now switch back to our master branch."
   ]
  },
  {
   "cell_type": "code",
   "execution_count": null,
   "metadata": {},
   "outputs": [],
   "source": [
    "git checkout master"
   ]
  },
  {
   "cell_type": "markdown",
   "metadata": {},
   "source": [
    "Now lets syncronize our `master` with the `master` branch of the `upstream` repository. To do this we can simply use the `git merge` command"
   ]
  },
  {
   "cell_type": "code",
   "execution_count": null,
   "metadata": {},
   "outputs": [],
   "source": [
    "git log --decorate --oneline --graph --all"
   ]
  },
  {
   "cell_type": "code",
   "execution_count": null,
   "metadata": {},
   "outputs": [],
   "source": [
    "git merge upstream/master"
   ]
  },
  {
   "cell_type": "markdown",
   "metadata": {},
   "source": [
    "Now our local clone is syncronized with the `upstream` repository."
   ]
  },
  {
   "cell_type": "markdown",
   "metadata": {},
   "source": [
    "### Exercises"
   ]
  },
  {
   "cell_type": "markdown",
   "metadata": {},
   "source": [
    "**How do you fetch changes from a remote repository and merge changes from a branch at the same time?**  \n",
    "*This will require a new command `git pull`. You can learn more about this command at [git-pull](https://git-scm.com/docs/git-pull).*"
   ]
  },
  {
   "cell_type": "markdown",
   "metadata": {},
   "source": [
    "To fetch changes from a remote repostiory and merge them at the same time you can use the same optional `repostiory` and `refspec` arguments of the [git-pull](https://git-scm.com/docs/git-pull#_examples) command. For example to fetch and merge the changes from `upstream/master` you can run the command `git pull upstream master`."
   ]
  },
  {
   "cell_type": "markdown",
   "metadata": {},
   "source": [
    "## 7 Push upstream changes to fork"
   ]
  },
  {
   "cell_type": "markdown",
   "metadata": {},
   "source": [
    "We have almost finished. Now that we have updated our local clone the last thing that we need to do is syncronize our local clone with our remote fork. To do this we can use the `git push` command we learnt about in [2 Manage projects with Git](./2-manage-projects-with-git.ipynb).\n",
    "\n",
    "We will need to use the terminal once again to do this by typing the following command.\n",
    "\n",
    "```bash\n",
    "git push origin master\n",
    "```\n",
    "\n",
    "It may ask for you GitHub username and password again, which you can enter."
   ]
  },
  {
   "cell_type": "markdown",
   "metadata": {},
   "source": [
    "# Congratulations 🎉"
   ]
  },
  {
   "cell_type": "markdown",
   "metadata": {},
   "source": [
    "![](https://galadirith.github.io/stfc-cdt-national-event-git/img/unicorn.png)\n",
    "\n",
    "We really hope that you've enjoyed this workshop, and learned some important patterns for using Git and GitHub."
   ]
  },
  {
   "cell_type": "code",
   "execution_count": null,
   "metadata": {},
   "outputs": [],
   "source": []
  }
 ],
 "metadata": {
  "kernelspec": {
   "display_name": "Bash",
   "language": "bash",
   "name": "bash"
  },
  "language_info": {
   "codemirror_mode": "shell",
   "file_extension": ".sh",
   "mimetype": "text/x-sh",
   "name": "bash"
  }
 },
 "nbformat": 4,
 "nbformat_minor": 2
}
