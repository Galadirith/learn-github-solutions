{
 "cells": [
  {
   "cell_type": "markdown",
   "metadata": {},
   "source": [
    "# (Bonus) Sharing your work on GitHub"
   ]
  },
  {
   "cell_type": "markdown",
   "metadata": {},
   "source": [
    "Congratulations on finishing this workshop. Now that you are a master of Git and GitHub you can share you own work with others. As a final challenge create a repository to store your Python code from the the Python data analysis workshop you attened on the Morning of Tuesday 24th July."
   ]
  },
  {
   "cell_type": "markdown",
   "metadata": {},
   "source": [
    "## Objectives\n",
    "\n",
    "1. **Create a repository on GitHub**  \n",
    "   Create a brand new and empty repository on GitHub\n",
    "\n",
    "2. **Clone the empty repostitory**  \n",
    "\n",
    "3. **Place your files in the repository folder**  \n",
    "   \n",
    "4. **Create a commit**  \n",
    "   Create a commit with all the Python files that you would like to commit.\n",
    "\n",
    "5. **Push the changes to your repository**"
   ]
  },
  {
   "cell_type": "markdown",
   "metadata": {},
   "source": [
    "## 1 Create a repository on GitHub\n",
    "\n",
    "Go to the link https://github.com/new. If you are not already signed in to GitHub it will ask you sign in. Give your new repository a name in the `Repository name` textbox. You can leave the rest of the options as their defaults. Then press `Create repository`. This will take you to a new webpage that looks something like the following.\n",
    "\n",
    "![](../img/new-github-repo.png)\n",
    "\n",
    "Make sure that the `https` button is selected and then press the copy button (📋) on the right hand side of the Git URL."
   ]
  },
  {
   "cell_type": "markdown",
   "metadata": {},
   "source": [
    "## 2 Clone the empty repostitory\n",
    "\n",
    "Now we can clone your new repository. To do this replace the URL in the `git clone` command below with the URL you just copied."
   ]
  },
  {
   "cell_type": "code",
   "execution_count": null,
   "metadata": {},
   "outputs": [],
   "source": [
    "git clone https://github.com/username/project.git"
   ]
  },
  {
   "cell_type": "markdown",
   "metadata": {},
   "source": [
    "## 3 Place your files in the repository folder"
   ]
  },
  {
   "cell_type": "markdown",
   "metadata": {},
   "source": [
    "In the file browser navigate to the repository you just cloned. You can access this folder containing the clone of your repository by clicking `File > Open...` which will open a new tab and navigate to the folder with the same name as your GitHub project. Then press the `Upload` button on the right hand side of page. You can then select the Python files the you would like to upload to your notebook environment."
   ]
  },
  {
   "cell_type": "markdown",
   "metadata": {},
   "source": [
    "## 4 Create a commit"
   ]
  },
  {
   "cell_type": "markdown",
   "metadata": {},
   "source": [
    "Now we need to create a new commit just like we did in [2 Manage projects with Git](./2-manage-projects-with-git.ipynb#3-Create-a-commit). You need to `git add` all of the Python files that you would like to commit. You can do this one by one or as a list of files for a single `git add` command. You can update the command below to do this."
   ]
  },
  {
   "cell_type": "code",
   "execution_count": null,
   "metadata": {},
   "outputs": [],
   "source": [
    "cd your-project-name\n",
    "git add file1.py file2.py\n",
    "git commit -m \"You commit message\""
   ]
  },
  {
   "cell_type": "markdown",
   "metadata": {},
   "source": [
    "## 5 Push the changes to your repository"
   ]
  },
  {
   "cell_type": "markdown",
   "metadata": {},
   "source": [
    "We have almost finished. Now that we have updated our local clone of your new repsotiroy the last thing that we need to do is push our new commit to your new repostitory on GitHub. To do this we can use the `git push` command we learnt about in [2 Manage projects with Git](./2-manage-projects-with-git.ipynb).\n",
    "\n",
    "We will need to use the terminal once again to do this by typing the following command.\n",
    "\n",
    "```bash\n",
    "git push origin master\n",
    "```\n",
    "\n",
    "It may ask for you GitHub username and password again, which you can enter. If you now go back to the webpage for your GitHub repository you will see all the files you commited."
   ]
  },
  {
   "cell_type": "markdown",
   "metadata": {},
   "source": [
    "# Congratulations 🎉"
   ]
  },
  {
   "cell_type": "markdown",
   "metadata": {},
   "source": [
    "![](https://galadirith.github.io/stfc-cdt-national-event-git/img/unicorn.png)\n",
    "\n",
    "We really hope that you've enjoyed this workshop, and learned some important patterns for using Git and GitHub."
   ]
  }
 ],
 "metadata": {
  "kernelspec": {
   "display_name": "Bash",
   "language": "bash",
   "name": "bash"
  },
  "language_info": {
   "codemirror_mode": "shell",
   "file_extension": ".sh",
   "mimetype": "text/x-sh",
   "name": "bash"
  }
 },
 "nbformat": 4,
 "nbformat_minor": 2
}
